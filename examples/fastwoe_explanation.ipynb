{
 "cells": [
  {
   "cell_type": "markdown",
   "metadata": {
    "vscode": {
     "languageId": "plaintext"
    }
   },
   "source": [
    "# FastWoe Explanation\n",
    "\n",
    "This notebook shows how to use the FastWoe class to explain the model."
   ]
  },
  {
   "cell_type": "code",
   "execution_count": 1,
   "metadata": {},
   "outputs": [
    {
     "name": "stdout",
     "output_type": "stream",
     "text": [
      "Root directory: /Users/deburky/Documents/Git-xRiskLab/fastwoe\n"
     ]
    }
   ],
   "source": [
    "import sys\n",
    "import warnings\n",
    "from pathlib import Path\n",
    "\n",
    "import pandas as pd\n",
    "\n",
    "from fastwoe import FastWoe, WeightOfEvidence\n",
    "\n",
    "# Get the root directory\n",
    "ROOT_DIR = Path.cwd()\n",
    "if ROOT_DIR.name == \"examples\":\n",
    "    ROOT_DIR = ROOT_DIR.parent\n",
    "\n",
    "print(f\"Root directory: {ROOT_DIR}\")\n",
    "\n",
    "# Add the root directory to Python path for imports\n",
    "sys.path.insert(0, str(ROOT_DIR))\n",
    "warnings.filterwarnings(\"ignore\")\n",
    "\n",
    "data_path = ROOT_DIR / \"data\" / \"BankCaseStudyData.csv\""
   ]
  },
  {
   "cell_type": "code",
   "execution_count": 2,
   "metadata": {},
   "outputs": [],
   "source": [
    "dataset = pd.read_csv(str(data_path))\n",
    "\n",
    "# Prepare features and labels\n",
    "label = \"Final_Decision\"\n",
    "dataset[label] = dataset[label].map({\"Accept\": 0, \"Decline\": 1})\n",
    "\n",
    "num_features = [\n",
    "    # \"Application_Score\",\n",
    "    # \"Bureau_Score\",\n",
    "    # \"Loan_Amount\",\n",
    "    # \"Time_with_Bank\",\n",
    "    # \"Time_in_Employment\",\n",
    "    # \"Loan_to_income\",\n",
    "    # \"Gross_Annual_Income\",\n",
    "]\n",
    "\n",
    "cat_features = [\n",
    "    \"Existing_Customer_Flag\",\n",
    "    \"Loan_Payment_Frequency\",\n",
    "    \"Residential_Status\",\n",
    "    \"Cheque_Card_Flag\",\n",
    "    \"Home_Telephone_Number\",\n",
    "]\n",
    "\n",
    "features = num_features + cat_features\n",
    "\n",
    "ix_train = dataset[\"split\"] == \"Development\"\n",
    "ix_test = dataset[\"split\"] == \"Validation\"\n",
    "\n",
    "X_train = dataset.loc[ix_train, features]\n",
    "y_train = dataset.loc[ix_train, label]\n",
    "X_test = dataset.loc[ix_test, features]\n",
    "y_test = dataset.loc[ix_test, label]\n",
    "\n",
    "X_train.loc[:, cat_features] = X_train.loc[:, cat_features].astype(str).fillna(\"NA\")\n",
    "X_test.loc[:, cat_features] = X_test.loc[:, cat_features].astype(str).fillna(\"NA\")"
   ]
  },
  {
   "cell_type": "code",
   "execution_count": 3,
   "metadata": {},
   "outputs": [
    {
     "name": "stdout",
     "output_type": "stream",
     "text": [
      "\n",
      "First feature mapping (first 5 bins):\n"
     ]
    },
    {
     "data": {
      "text/html": [
       "<div>\n",
       "<style scoped>\n",
       "    .dataframe tbody tr th:only-of-type {\n",
       "        vertical-align: middle;\n",
       "    }\n",
       "\n",
       "    .dataframe tbody tr th {\n",
       "        vertical-align: top;\n",
       "    }\n",
       "\n",
       "    .dataframe thead th {\n",
       "        text-align: right;\n",
       "    }\n",
       "</style>\n",
       "<table border=\"1\" class=\"dataframe\">\n",
       "  <thead>\n",
       "    <tr style=\"text-align: right;\">\n",
       "      <th></th>\n",
       "      <th>category</th>\n",
       "      <th>count</th>\n",
       "      <th>count_pct</th>\n",
       "      <th>good_count</th>\n",
       "      <th>bad_count</th>\n",
       "      <th>event_rate</th>\n",
       "      <th>woe</th>\n",
       "      <th>woe_se</th>\n",
       "      <th>woe_ci_lower</th>\n",
       "      <th>woe_ci_upper</th>\n",
       "    </tr>\n",
       "  </thead>\n",
       "  <tbody>\n",
       "    <tr>\n",
       "      <th>0</th>\n",
       "      <td>N</td>\n",
       "      <td>17811</td>\n",
       "      <td>89.56102</td>\n",
       "      <td>15822</td>\n",
       "      <td>1989</td>\n",
       "      <td>0.111673</td>\n",
       "      <td>0.068096</td>\n",
       "      <td>0.023790</td>\n",
       "      <td>0.021469</td>\n",
       "      <td>0.114724</td>\n",
       "    </tr>\n",
       "    <tr>\n",
       "      <th>1</th>\n",
       "      <td>Y</td>\n",
       "      <td>2076</td>\n",
       "      <td>10.43898</td>\n",
       "      <td>1975</td>\n",
       "      <td>101</td>\n",
       "      <td>0.048651</td>\n",
       "      <td>-0.831337</td>\n",
       "      <td>0.102016</td>\n",
       "      <td>-1.031286</td>\n",
       "      <td>-0.631389</td>\n",
       "    </tr>\n",
       "  </tbody>\n",
       "</table>\n",
       "</div>"
      ],
      "text/plain": [
       "  category  count  count_pct  good_count  bad_count  event_rate       woe  \\\n",
       "0        N  17811   89.56102       15822       1989    0.111673  0.068096   \n",
       "1        Y   2076   10.43898        1975        101    0.048651 -0.831337   \n",
       "\n",
       "     woe_se  woe_ci_lower  woe_ci_upper  \n",
       "0  0.023790      0.021469      0.114724  \n",
       "1  0.102016     -1.031286     -0.631389  "
      ]
     },
     "metadata": {},
     "output_type": "display_data"
    },
    {
     "name": "stdout",
     "output_type": "stream",
     "text": [
      "\n",
      "Explanation for sample -1:\n",
      "True label: Positive\n",
      "Predicted label: Positive\n",
      "WOE Evidence: 3.568\n",
      "Interpretation: Very strong evidence FOR the hypothesis\n",
      "\n",
      "Feature contributions:\n",
      "  Existing_Customer_Flag: 0.068\n",
      "  Loan_Payment_Frequency: 0.583\n",
      "  Residential_Status: 0.586\n",
      "  Cheque_Card_Flag: 0.895\n",
      "  Home_Telephone_Number: 1.435\n"
     ]
    }
   ],
   "source": [
    "# Fit encoder with automatic binning enabled\n",
    "encoder = FastWoe(warn_on_numerical=True)\n",
    "encoder.fit(X_train, y_train)\n",
    "\n",
    "\n",
    "print(\"\\nFirst feature mapping (first 5 bins):\")\n",
    "display(encoder.get_mapping(features[0]).head())\n",
    "\n",
    "# Make predictions\n",
    "preds = encoder.predict_proba(X_test)[:, 1]\n",
    "\n",
    "# Create explainer and get explanation\n",
    "explainer = WeightOfEvidence(encoder, X_train, y_train)\n",
    "\n",
    "idx = -1\n",
    "explanation = explainer.explain(X_test, sample_idx=idx, true_labels=y_test)\n",
    "\n",
    "# Print results\n",
    "print(f\"\\nExplanation for sample {idx}:\")\n",
    "print(f\"True label: {explanation['true_label']}\")\n",
    "print(f\"Predicted label: {explanation['predicted_label']}\")\n",
    "print(f\"WOE Evidence: {explanation['total_woe']:.3f}\")\n",
    "print(f\"Interpretation: {explanation['interpretation']}\")\n",
    "\n",
    "# Show feature contributions\n",
    "if \"feature_contributions\" in explanation:\n",
    "    print(\"\\nFeature contributions:\")\n",
    "    for feature, woe_val in explanation[\"feature_contributions\"].items():\n",
    "        print(f\"  {feature}: {woe_val:.3f}\")"
   ]
  },
  {
   "cell_type": "code",
   "execution_count": 4,
   "metadata": {},
   "outputs": [
    {
     "name": "stdout",
     "output_type": "stream",
     "text": [
      "\n",
      "All binned categories:\n",
      "  category  count  event_rate    woe  woe_se\n",
      "0        N  17811       0.112  0.068   0.024\n",
      "1        Y   2076       0.049 -0.831   0.102\n"
     ]
    }
   ],
   "source": [
    "# Show the binned mapping with stable WOE estimates\n",
    "print(\"\\nAll binned categories:\")\n",
    "mapping_df = encoder.get_mapping(features[0])\n",
    "print(mapping_df[[\"category\", \"count\", \"event_rate\", \"woe\", \"woe_se\"]].round(3))"
   ]
  },
  {
   "cell_type": "code",
   "execution_count": 5,
   "metadata": {},
   "outputs": [
    {
     "data": {
      "text/html": [
       "<pre style=\"white-space:pre;overflow-x:auto;line-height:normal;font-family:Menlo,'DejaVu Sans Mono',consolas,'Courier New',monospace\">╭─────────────────────────────────────── Sample with Confidence Intervals ────────────────────────────────────────╮\n",
       "│ Sample Index: 300                                                                                               │\n",
       "│ Original Features: {'Existing_Customer_Flag': 'N', 'Loan_Payment_Frequency': 'nan', 'Residential_Status': 'H',  │\n",
       "│ 'Cheque_Card_Flag': 'Y', 'Home_Telephone_Number': 'Y'}                                                          │\n",
       "│ True Label: Negative                                                                                            │\n",
       "╰─────────────────────────────────────────────────────────────────────────────────────────────────────────────────╯\n",
       "</pre>\n"
      ],
      "text/plain": [
       "╭─────────────────────────────────────── Sample with Confidence Intervals ────────────────────────────────────────╮\n",
       "│ Sample Index: 300                                                                                               │\n",
       "│ Original Features: {'Existing_Customer_Flag': 'N', 'Loan_Payment_Frequency': 'nan', 'Residential_Status': 'H',  │\n",
       "│ 'Cheque_Card_Flag': 'Y', 'Home_Telephone_Number': 'Y'}                                                          │\n",
       "│ True Label: Negative                                                                                            │\n",
       "╰─────────────────────────────────────────────────────────────────────────────────────────────────────────────────╯\n"
      ]
     },
     "metadata": {},
     "output_type": "display_data"
    },
    {
     "data": {
      "text/html": [
       "<pre style=\"white-space:pre;overflow-x:auto;line-height:normal;font-family:Menlo,'DejaVu Sans Mono',consolas,'Courier New',monospace\">╭─────────────────────────────────────────────── Inference Summary ───────────────────────────────────────────────╮\n",
       "│ Predicted Label: Negative                                                                                       │\n",
       "│ Predicted Probabilities: {'Negative': 0.98431, 'Positive': 0.01569}                                             │\n",
       "│ Confidence Level: 95%                                                                                           │\n",
       "╰─────────────────────────────────────────────────────────────────────────────────────────────────────────────────╯\n",
       "</pre>\n"
      ],
      "text/plain": [
       "╭─────────────────────────────────────────────── Inference Summary ───────────────────────────────────────────────╮\n",
       "│ Predicted Label: Negative                                                                                       │\n",
       "│ Predicted Probabilities: {'Negative': 0.98431, 'Positive': 0.01569}                                             │\n",
       "│ Confidence Level: 95%                                                                                           │\n",
       "╰─────────────────────────────────────────────────────────────────────────────────────────────────────────────────╯\n"
      ]
     },
     "metadata": {},
     "output_type": "display_data"
    },
    {
     "data": {
      "text/html": [
       "<pre style=\"white-space:pre;overflow-x:auto;line-height:normal;font-family:Menlo,'DejaVu Sans Mono',consolas,'Courier New',monospace\"><span style=\"font-style: italic\">                                             Confidence Intervals                                              </span>\n",
       "┏━━━━━━━━━━━━━━━━┳━━━━━━━━━━━━━━━━━┳━━━━━━━━━━━━━━┳━━━━━━━━━━━━━┳━━━━━━━━━━━━━━━━━━━━━━━━━━━━━━━━━━━━━━━━━━━━━┓\n",
       "┃<span style=\"font-weight: bold\"> Scenario       </span>┃<span style=\"font-weight: bold\"> Predicted Label </span>┃<span style=\"font-weight: bold\"> WOE Evidence </span>┃<span style=\"font-weight: bold\"> Probability </span>┃<span style=\"font-weight: bold\"> Interpretation                              </span>┃\n",
       "┡━━━━━━━━━━━━━━━━╇━━━━━━━━━━━━━━━━━╇━━━━━━━━━━━━━━╇━━━━━━━━━━━━━╇━━━━━━━━━━━━━━━━━━━━━━━━━━━━━━━━━━━━━━━━━━━━━┩\n",
       "│ Lower Bound    │ Negative        │ -2.4592      │ 0.0099      │ Very strong evidence AGAINST the hypothe... │\n",
       "│ Point Estimate │ Negative        │ -1.9971      │ 0.0157      │ Strong evidence AGAINST the hypothesis      │\n",
       "│ Upper Bound    │ Negative        │ -1.5351      │ 0.0247      │ Strong evidence AGAINST the hypothesis      │\n",
       "└────────────────┴─────────────────┴──────────────┴─────────────┴─────────────────────────────────────────────┘\n",
       "</pre>\n"
      ],
      "text/plain": [
       "\u001b[3m                                             Confidence Intervals                                              \u001b[0m\n",
       "┏━━━━━━━━━━━━━━━━┳━━━━━━━━━━━━━━━━━┳━━━━━━━━━━━━━━┳━━━━━━━━━━━━━┳━━━━━━━━━━━━━━━━━━━━━━━━━━━━━━━━━━━━━━━━━━━━━┓\n",
       "┃\u001b[1m \u001b[0m\u001b[1mScenario      \u001b[0m\u001b[1m \u001b[0m┃\u001b[1m \u001b[0m\u001b[1mPredicted Label\u001b[0m\u001b[1m \u001b[0m┃\u001b[1m \u001b[0m\u001b[1mWOE Evidence\u001b[0m\u001b[1m \u001b[0m┃\u001b[1m \u001b[0m\u001b[1mProbability\u001b[0m\u001b[1m \u001b[0m┃\u001b[1m \u001b[0m\u001b[1mInterpretation                             \u001b[0m\u001b[1m \u001b[0m┃\n",
       "┡━━━━━━━━━━━━━━━━╇━━━━━━━━━━━━━━━━━╇━━━━━━━━━━━━━━╇━━━━━━━━━━━━━╇━━━━━━━━━━━━━━━━━━━━━━━━━━━━━━━━━━━━━━━━━━━━━┩\n",
       "│ Lower Bound    │ Negative        │ -2.4592      │ 0.0099      │ Very strong evidence AGAINST the hypothe... │\n",
       "│ Point Estimate │ Negative        │ -1.9971      │ 0.0157      │ Strong evidence AGAINST the hypothesis      │\n",
       "│ Upper Bound    │ Negative        │ -1.5351      │ 0.0247      │ Strong evidence AGAINST the hypothesis      │\n",
       "└────────────────┴─────────────────┴──────────────┴─────────────┴─────────────────────────────────────────────┘\n"
      ]
     },
     "metadata": {},
     "output_type": "display_data"
    },
    {
     "data": {
      "text/html": [
       "<pre style=\"white-space:pre;overflow-x:auto;line-height:normal;font-family:Menlo,'DejaVu Sans Mono',consolas,'Courier New',monospace\"><span style=\"font-style: italic\">       Uncertainty Summary       </span>\n",
       "┏━━━━━━━━━━━━━━━━━━━┳━━━━━━━━━━━┓\n",
       "┃<span style=\"font-weight: bold\"> Metric            </span>┃<span style=\"font-weight: bold\"> Range (±) </span>┃\n",
       "┡━━━━━━━━━━━━━━━━━━━╇━━━━━━━━━━━┩\n",
       "│ WOE Range         │ 0.4620    │\n",
       "│ Probability Range │ 0.0074    │\n",
       "└───────────────────┴───────────┘\n",
       "</pre>\n"
      ],
      "text/plain": [
       "\u001b[3m       Uncertainty Summary       \u001b[0m\n",
       "┏━━━━━━━━━━━━━━━━━━━┳━━━━━━━━━━━┓\n",
       "┃\u001b[1m \u001b[0m\u001b[1mMetric           \u001b[0m\u001b[1m \u001b[0m┃\u001b[1m \u001b[0m\u001b[1mRange (±)\u001b[0m\u001b[1m \u001b[0m┃\n",
       "┡━━━━━━━━━━━━━━━━━━━╇━━━━━━━━━━━┩\n",
       "│ WOE Range         │ 0.4620    │\n",
       "│ Probability Range │ 0.0074    │\n",
       "└───────────────────┴───────────┘\n"
      ]
     },
     "metadata": {},
     "output_type": "display_data"
    },
    {
     "data": {
      "text/html": [
       "<pre style=\"white-space:pre;overflow-x:auto;line-height:normal;font-family:Menlo,'DejaVu Sans Mono',consolas,'Courier New',monospace\"><span style=\"font-style: italic\"> Feature Contributions (Point Estimate)  </span>\n",
       "┏━━━━━━━━━━━━━━━━━━━━━━━━┳━━━━━━━━━━━━━━┓\n",
       "┃<span style=\"font-weight: bold\"> Feature                </span>┃<span style=\"font-weight: bold\"> Contribution </span>┃\n",
       "┡━━━━━━━━━━━━━━━━━━━━━━━━╇━━━━━━━━━━━━━━┩\n",
       "│ Existing_Customer_Flag │ 0.0681       │\n",
       "│ Loan_Payment_Frequency │ 0.1784       │\n",
       "│ Residential_Status     │ -0.9589      │\n",
       "│ Cheque_Card_Flag       │ -1.1968      │\n",
       "│ Home_Telephone_Number  │ -0.0879      │\n",
       "└────────────────────────┴──────────────┘\n",
       "</pre>\n"
      ],
      "text/plain": [
       "\u001b[3m Feature Contributions (Point Estimate)  \u001b[0m\n",
       "┏━━━━━━━━━━━━━━━━━━━━━━━━┳━━━━━━━━━━━━━━┓\n",
       "┃\u001b[1m \u001b[0m\u001b[1mFeature               \u001b[0m\u001b[1m \u001b[0m┃\u001b[1m \u001b[0m\u001b[1mContribution\u001b[0m\u001b[1m \u001b[0m┃\n",
       "┡━━━━━━━━━━━━━━━━━━━━━━━━╇━━━━━━━━━━━━━━┩\n",
       "│ Existing_Customer_Flag │ 0.0681       │\n",
       "│ Loan_Payment_Frequency │ 0.1784       │\n",
       "│ Residential_Status     │ -0.9589      │\n",
       "│ Cheque_Card_Flag       │ -1.1968      │\n",
       "│ Home_Telephone_Number  │ -0.0879      │\n",
       "└────────────────────────┴──────────────┘\n"
      ]
     },
     "metadata": {},
     "output_type": "display_data"
    }
   ],
   "source": [
    "idx = 300\n",
    "explanation = explainer.explain_ci(X_test, sample_idx=idx, true_labels=y_test)\n",
    "\n",
    "# With custom confidence level\n",
    "explanation = explainer.explain_ci(\n",
    "    X_test, sample_idx=idx, true_labels=y_test, alpha=0.01\n",
    ")  # 99% CI\n",
    "\n",
    "# Pretty print format\n",
    "explainer.explain_ci(X_test, sample_idx=idx, true_labels=y_test, return_dict=False)"
   ]
  }
 ],
 "metadata": {
  "kernelspec": {
   "display_name": ".venv",
   "language": "python",
   "name": "python3"
  },
  "language_info": {
   "codemirror_mode": {
    "name": "ipython",
    "version": 3
   },
   "file_extension": ".py",
   "mimetype": "text/x-python",
   "name": "python",
   "nbconvert_exporter": "python",
   "pygments_lexer": "ipython3",
   "version": "3.11.8"
  }
 },
 "nbformat": 4,
 "nbformat_minor": 2
}
