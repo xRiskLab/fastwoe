{
 "cells": [
  {
   "cell_type": "markdown",
   "id": "7fb27b941602401d91542211134fc71a",
   "metadata": {},
   "source": [
    "# FastWoe Multiclass Example\n",
    "\n",
    "Author: https://www.github.com/xRiskLab\n",
    "\n",
    "This notebook demonstrates how to use FastWoe with a multiclass target in a row-level format. The target has three classes:\n",
    "- `0`: No Default\n",
    "- `1`: UTP Default\n",
    "- `2`: DPD Default"
   ]
  },
  {
   "cell_type": "code",
   "execution_count": 14,
   "id": "48a4b907",
   "metadata": {},
   "outputs": [],
   "source": [
    "import numpy as np\n",
    "import pandas as pd\n",
    "from sklearn.model_selection import train_test_split\n",
    "\n",
    "from fastwoe import FastWoe"
   ]
  },
  {
   "cell_type": "code",
   "execution_count": 15,
   "id": "acae54e37e7d407bbb7b55eff062a284",
   "metadata": {},
   "outputs": [
    {
     "name": "stdout",
     "output_type": "stream",
     "text": [
      "target\n",
      "0    600\n",
      "1     45\n",
      "2     55\n",
      "Name: count, dtype: int64\n"
     ]
    }
   ],
   "source": [
    "# Create synthetic row-level data from the contingency table\n",
    "data = []\n",
    "rows = [\n",
    "    (\"Delinquent > 5 days\", 2, 50),\n",
    "    (\"Delinquent > 5 days\", 1, 30),\n",
    "    (\"Delinquent > 5 days\", 0, 100),\n",
    "    (\"Delinquent ≤ 5 days\", 2, 5),\n",
    "    (\"Delinquent ≤ 5 days\", 1, 15),\n",
    "    (\"Delinquent ≤ 5 days\", 0, 500),\n",
    "]\n",
    "\n",
    "for evidence, label, count in rows:\n",
    "    data.extend([[evidence, label]] * count)\n",
    "\n",
    "df = pd.DataFrame(data, columns=[\"evidence\", \"target\"])\n",
    "df[\"target\"] = df[\"target\"].astype(int)\n",
    "\n",
    "# Show class distribution\n",
    "print(df[\"target\"].value_counts().sort_index())"
   ]
  },
  {
   "cell_type": "code",
   "execution_count": 16,
   "id": "9a63283cbaf04dbcab1f6479b197f3a8",
   "metadata": {},
   "outputs": [],
   "source": [
    "# Split the data\n",
    "X = df[[\"evidence\"]]\n",
    "y = df[\"target\"]\n",
    "\n",
    "X_train, X_test, y_train, y_test = train_test_split(\n",
    "    X, y, test_size=0.2, random_state=42, stratify=y\n",
    ")"
   ]
  },
  {
   "cell_type": "code",
   "execution_count": 17,
   "id": "8dd0d8092fe74a7c96281538738b07e2",
   "metadata": {},
   "outputs": [
    {
     "name": "stdout",
     "output_type": "stream",
     "text": [
      "\n",
      "Mapping for class 0:\n"
     ]
    },
    {
     "data": {
      "text/html": [
       "<div>\n",
       "<style scoped>\n",
       "    .dataframe tbody tr th:only-of-type {\n",
       "        vertical-align: middle;\n",
       "    }\n",
       "\n",
       "    .dataframe tbody tr th {\n",
       "        vertical-align: top;\n",
       "    }\n",
       "\n",
       "    .dataframe thead th {\n",
       "        text-align: right;\n",
       "    }\n",
       "</style>\n",
       "<table border=\"1\" class=\"dataframe\">\n",
       "  <thead>\n",
       "    <tr style=\"text-align: right;\">\n",
       "      <th></th>\n",
       "      <th>category</th>\n",
       "      <th>count</th>\n",
       "      <th>count_pct</th>\n",
       "      <th>good_count</th>\n",
       "      <th>bad_count</th>\n",
       "      <th>event_rate</th>\n",
       "      <th>woe</th>\n",
       "      <th>woe_se</th>\n",
       "      <th>woe_ci_lower</th>\n",
       "      <th>woe_ci_upper</th>\n",
       "    </tr>\n",
       "  </thead>\n",
       "  <tbody>\n",
       "    <tr>\n",
       "      <th>0</th>\n",
       "      <td>Delinquent &gt; 5 days</td>\n",
       "      <td>142</td>\n",
       "      <td>25.357143</td>\n",
       "      <td>63</td>\n",
       "      <td>79</td>\n",
       "      <td>0.556338</td>\n",
       "      <td>-1.565446</td>\n",
       "      <td>0.168912</td>\n",
       "      <td>-1.896508</td>\n",
       "      <td>-1.234385</td>\n",
       "    </tr>\n",
       "    <tr>\n",
       "      <th>1</th>\n",
       "      <td>Delinquent ≤ 5 days</td>\n",
       "      <td>418</td>\n",
       "      <td>74.642857</td>\n",
       "      <td>17</td>\n",
       "      <td>401</td>\n",
       "      <td>0.959330</td>\n",
       "      <td>1.368989</td>\n",
       "      <td>0.247623</td>\n",
       "      <td>0.883656</td>\n",
       "      <td>1.854321</td>\n",
       "    </tr>\n",
       "  </tbody>\n",
       "</table>\n",
       "</div>"
      ],
      "text/plain": [
       "              category  count  count_pct  good_count  bad_count  event_rate  \\\n",
       "0  Delinquent > 5 days    142  25.357143          63         79    0.556338   \n",
       "1  Delinquent ≤ 5 days    418  74.642857          17        401    0.959330   \n",
       "\n",
       "        woe    woe_se  woe_ci_lower  woe_ci_upper  \n",
       "0 -1.565446  0.168912     -1.896508     -1.234385  \n",
       "1  1.368989  0.247623      0.883656      1.854321  "
      ]
     },
     "metadata": {},
     "output_type": "display_data"
    },
    {
     "name": "stdout",
     "output_type": "stream",
     "text": [
      "\n",
      "Mapping for class 1:\n"
     ]
    },
    {
     "data": {
      "text/html": [
       "<div>\n",
       "<style scoped>\n",
       "    .dataframe tbody tr th:only-of-type {\n",
       "        vertical-align: middle;\n",
       "    }\n",
       "\n",
       "    .dataframe tbody tr th {\n",
       "        vertical-align: top;\n",
       "    }\n",
       "\n",
       "    .dataframe thead th {\n",
       "        text-align: right;\n",
       "    }\n",
       "</style>\n",
       "<table border=\"1\" class=\"dataframe\">\n",
       "  <thead>\n",
       "    <tr style=\"text-align: right;\">\n",
       "      <th></th>\n",
       "      <th>category</th>\n",
       "      <th>count</th>\n",
       "      <th>count_pct</th>\n",
       "      <th>good_count</th>\n",
       "      <th>bad_count</th>\n",
       "      <th>event_rate</th>\n",
       "      <th>woe</th>\n",
       "      <th>woe_se</th>\n",
       "      <th>woe_ci_lower</th>\n",
       "      <th>woe_ci_upper</th>\n",
       "    </tr>\n",
       "  </thead>\n",
       "  <tbody>\n",
       "    <tr>\n",
       "      <th>0</th>\n",
       "      <td>Delinquent &gt; 5 days</td>\n",
       "      <td>142</td>\n",
       "      <td>25.357143</td>\n",
       "      <td>119</td>\n",
       "      <td>23</td>\n",
       "      <td>0.161972</td>\n",
       "      <td>1.034343</td>\n",
       "      <td>0.227775</td>\n",
       "      <td>0.587912</td>\n",
       "      <td>1.480775</td>\n",
       "    </tr>\n",
       "    <tr>\n",
       "      <th>1</th>\n",
       "      <td>Delinquent ≤ 5 days</td>\n",
       "      <td>418</td>\n",
       "      <td>74.642857</td>\n",
       "      <td>405</td>\n",
       "      <td>13</td>\n",
       "      <td>0.031100</td>\n",
       "      <td>-0.760965</td>\n",
       "      <td>0.281766</td>\n",
       "      <td>-1.313217</td>\n",
       "      <td>-0.208713</td>\n",
       "    </tr>\n",
       "  </tbody>\n",
       "</table>\n",
       "</div>"
      ],
      "text/plain": [
       "              category  count  count_pct  good_count  bad_count  event_rate  \\\n",
       "0  Delinquent > 5 days    142  25.357143         119         23    0.161972   \n",
       "1  Delinquent ≤ 5 days    418  74.642857         405         13    0.031100   \n",
       "\n",
       "        woe    woe_se  woe_ci_lower  woe_ci_upper  \n",
       "0  1.034343  0.227775      0.587912      1.480775  \n",
       "1 -0.760965  0.281766     -1.313217     -0.208713  "
      ]
     },
     "metadata": {},
     "output_type": "display_data"
    },
    {
     "name": "stdout",
     "output_type": "stream",
     "text": [
      "\n",
      "Mapping for class 2:\n"
     ]
    },
    {
     "data": {
      "text/html": [
       "<div>\n",
       "<style scoped>\n",
       "    .dataframe tbody tr th:only-of-type {\n",
       "        vertical-align: middle;\n",
       "    }\n",
       "\n",
       "    .dataframe tbody tr th {\n",
       "        vertical-align: top;\n",
       "    }\n",
       "\n",
       "    .dataframe thead th {\n",
       "        text-align: right;\n",
       "    }\n",
       "</style>\n",
       "<table border=\"1\" class=\"dataframe\">\n",
       "  <thead>\n",
       "    <tr style=\"text-align: right;\">\n",
       "      <th></th>\n",
       "      <th>category</th>\n",
       "      <th>count</th>\n",
       "      <th>count_pct</th>\n",
       "      <th>good_count</th>\n",
       "      <th>bad_count</th>\n",
       "      <th>event_rate</th>\n",
       "      <th>woe</th>\n",
       "      <th>woe_se</th>\n",
       "      <th>woe_ci_lower</th>\n",
       "      <th>woe_ci_upper</th>\n",
       "    </tr>\n",
       "  </thead>\n",
       "  <tbody>\n",
       "    <tr>\n",
       "      <th>0</th>\n",
       "      <td>Delinquent &gt; 5 days</td>\n",
       "      <td>142</td>\n",
       "      <td>25.357143</td>\n",
       "      <td>102</td>\n",
       "      <td>40</td>\n",
       "      <td>0.281690</td>\n",
       "      <td>1.525824</td>\n",
       "      <td>0.186558</td>\n",
       "      <td>1.160177</td>\n",
       "      <td>1.891471</td>\n",
       "    </tr>\n",
       "    <tr>\n",
       "      <th>1</th>\n",
       "      <td>Delinquent ≤ 5 days</td>\n",
       "      <td>418</td>\n",
       "      <td>74.642857</td>\n",
       "      <td>414</td>\n",
       "      <td>4</td>\n",
       "      <td>0.009569</td>\n",
       "      <td>-2.177654</td>\n",
       "      <td>0.502410</td>\n",
       "      <td>-3.162359</td>\n",
       "      <td>-1.192949</td>\n",
       "    </tr>\n",
       "  </tbody>\n",
       "</table>\n",
       "</div>"
      ],
      "text/plain": [
       "              category  count  count_pct  good_count  bad_count  event_rate  \\\n",
       "0  Delinquent > 5 days    142  25.357143         102         40    0.281690   \n",
       "1  Delinquent ≤ 5 days    418  74.642857         414          4    0.009569   \n",
       "\n",
       "        woe    woe_se  woe_ci_lower  woe_ci_upper  \n",
       "0  1.525824  0.186558      1.160177      1.891471  \n",
       "1 -2.177654  0.502410     -3.162359     -1.192949  "
      ]
     },
     "metadata": {},
     "output_type": "display_data"
    }
   ],
   "source": [
    "# Fit FastWoe with multiclass support\n",
    "woe = FastWoe()\n",
    "woe.fit(X_train, y_train)\n",
    "\n",
    "# Show mappings for each class\n",
    "for class_label in sorted(y.unique()):\n",
    "    print(f\"\\nMapping for class {class_label}:\")\n",
    "    display(woe.get_mapping(\"evidence\", class_label=class_label))"
   ]
  },
  {
   "cell_type": "code",
   "execution_count": 18,
   "id": "20fda6de",
   "metadata": {},
   "outputs": [
    {
     "data": {
      "text/plain": [
       "0    0.857143\n",
       "1    0.064286\n",
       "2    0.078571\n",
       "dtype: float64"
      ]
     },
     "metadata": {},
     "output_type": "display_data"
    },
    {
     "name": "stdout",
     "output_type": "stream",
     "text": [
      "Mean of class 0 in y_test: 0.8571428571428571\n",
      "Mean of class 1 in y_test: 0.06428571428571428\n",
      "Mean of class 2 in y_test: 0.07857142857142857\n"
     ]
    }
   ],
   "source": [
    "X_ = X_train.copy()\n",
    "y_ = y_train.copy()\n",
    "\n",
    "display(pd.DataFrame(woe.predict_proba(X_)).mean())\n",
    "\n",
    "# calculate mean of each class in y_test\n",
    "for i in range(len(y_.unique())):\n",
    "    print(f\"Mean of class {i} in y_test: {np.mean(y_ == i)}\")"
   ]
  }
 ],
 "metadata": {
  "kernelspec": {
   "display_name": "fastwoe",
   "language": "python",
   "name": "python3"
  },
  "language_info": {
   "codemirror_mode": {
    "name": "ipython",
    "version": 3
   },
   "file_extension": ".py",
   "mimetype": "text/x-python",
   "name": "python",
   "nbconvert_exporter": "python",
   "pygments_lexer": "ipython3",
   "version": "3.11.8"
  }
 },
 "nbformat": 4,
 "nbformat_minor": 5
}
